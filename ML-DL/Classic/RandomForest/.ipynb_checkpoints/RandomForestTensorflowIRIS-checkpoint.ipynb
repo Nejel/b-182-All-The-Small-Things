{
 "cells": [
  {
   "cell_type": "markdown",
   "metadata": {},
   "source": [
    "# RANDOM FOREST IN TENSORFLOW\n",
    "## IRIS DATASET\n",
    "\n",
    "Source: https://www.kaggle.com/thomascolthurst/tensorforest-on-iris/data       \n",
    "    "
   ]
  },
  {
   "cell_type": "markdown",
   "metadata": {},
   "source": [
    "Hi, everyone. I'm Thomas Colthurst, and I work on a random forest implementation called TensorForest. As the name suggests, TensorForest is built on top of TensorFlow, which makes it easy to use all the goodies that TensorFlow provides (feature preprocessing, distributed training, etc.). You can find out more about TensorForest by reading our NIPS 2017 paper.\n",
    "\n",
    "This is a simple example to show you how to use TensorForest on the Iris classification task. (TensorForest also works for regression problems, but this won't cover that.)\n",
    "\n",
    "First, let's load the data:"
   ]
  },
  {
   "cell_type": "code",
   "execution_count": null,
   "metadata": {},
   "outputs": [],
   "source": []
  }
 ],
 "metadata": {
  "kernelspec": {
   "display_name": "Python 3",
   "language": "python",
   "name": "python3"
  },
  "language_info": {
   "codemirror_mode": {
    "name": "ipython",
    "version": 3
   },
   "file_extension": ".py",
   "mimetype": "text/x-python",
   "name": "python",
   "nbconvert_exporter": "python",
   "pygments_lexer": "ipython3",
   "version": "3.6.5"
  }
 },
 "nbformat": 4,
 "nbformat_minor": 2
}
